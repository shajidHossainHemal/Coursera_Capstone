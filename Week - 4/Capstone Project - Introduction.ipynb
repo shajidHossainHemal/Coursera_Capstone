{
 "cells": [
  {
   "cell_type": "markdown",
   "metadata": {},
   "source": [
    "# Capstone Project - Battle of the Neighborhood"
   ]
  },
  {
   "cell_type": "markdown",
   "metadata": {},
   "source": [
    "## Introduction/Business Problem"
   ]
  },
  {
   "cell_type": "markdown",
   "metadata": {},
   "source": [
    "Suppose you are a entrepreuner and you are looking to open a Pub in Toronto, Ontario. But you can not decide the location of the pub because the location of the pub has a significant impact on the expected returns.\n",
    " * You want to open the Pub in a location where the business would be profitable, where there are many customers. So a populated spot would be perfect to open this pub. \n",
    " * Also you would want a place where there few to none competetion i.e. you don't want to place the pub in the immediate proximity of existing ones.\n",
    "\n",
    "In order to answer this question, we would have to buil a model to get recommendations on where to start your business."
   ]
  },
  {
   "cell_type": "code",
   "execution_count": null,
   "metadata": {},
   "outputs": [],
   "source": []
  }
 ],
 "metadata": {
  "kernelspec": {
   "display_name": "Python 3",
   "language": "python",
   "name": "python3"
  },
  "language_info": {
   "codemirror_mode": {
    "name": "ipython",
    "version": 3
   },
   "file_extension": ".py",
   "mimetype": "text/x-python",
   "name": "python",
   "nbconvert_exporter": "python",
   "pygments_lexer": "ipython3",
   "version": "3.7.6"
  }
 },
 "nbformat": 4,
 "nbformat_minor": 4
}
