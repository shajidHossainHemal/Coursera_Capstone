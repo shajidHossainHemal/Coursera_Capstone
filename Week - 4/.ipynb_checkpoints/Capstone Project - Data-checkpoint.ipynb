{
 "cells": [
  {
   "cell_type": "markdown",
   "metadata": {},
   "source": [
    "# Capstone Project - Battle of the Neighborhood"
   ]
  },
  {
   "cell_type": "markdown",
   "metadata": {},
   "source": [
    "## Introduction/Business Problem"
   ]
  },
  {
   "cell_type": "markdown",
   "metadata": {},
   "source": [
    "Suppose you are an entrepreneur and you are looking to open a Pub in Toronto, Ontario. But you cannot decide the location of the pub because the location of the pub has a significant impact on the expected returns.\n",
    " * You want to open the Pub in a location where the business would be profitable, where there are many customers. So a populated spot would be perfect to open this pub. \n",
    " * Also you would want a place where there few to none competition i.e. you don't want to place the pub in the immediate proximity of existing ones.\n",
    "\n",
    "In order to answer this question, we would have to build a model to get recommendations on where to start your business."
   ]
  },
  {
   "cell_type": "markdown",
   "metadata": {},
   "source": [
    "## Data"
   ]
  },
  {
   "cell_type": "markdown",
   "metadata": {},
   "source": [
    "**A description of the data**: The data used to solve this problem is \"List of postal codes of Canada\" data collected from [Wikipedia](https://en.wikipedia.org/wiki/List_of_postal_codes_of_Canada:_M). Data is a single dataframe, containing the postal codes, boroughs and the neighborhoods in Toronto, Ontario.\n",
    " \n",
    " |Postal Code             |Borough                   |Neighborhoood                                     |\n",
    " |------------------------|--------------------------|--------------------------------------------------|\n",
    " |M1B                     |Scarborough              |Malvern, Rouge                                     |\n",
    " |M1C                     |Scarborough              |Rouge Hill, Port Union, Highland Creek             |\n",
    " |M3A                     |North York                |Parkwoods                                         |\n",
    " |M4A                     |North York                |Victoria Village                                  |\n",
    " |M5A                     |Downtown Toronto          |Regent Park, Harbourfront                         |\n",
    " \n",
    "The locations of the neighborhoods are collected by using python's `geocoder` package to get location information. Now the data contains `Latitude` and `Longitude` along with `Postal Code`, `Borough`, `Neighborhood`. `Latitude` and `Longitude` is absolutely necessary to get the venues from the Foursquare api. **Example** of the data after using `gecoder`:\n",
    " \n",
    " |Postal Code        |Borough            |Neighborhood                |Latitude          |Longitude        |\n",
    " |-------------------|-------------------|----------------------------|------------------|-----------------|\n",
    " |M1B                |Scarborough        |Malvern, Rouge              |43.806686         |-79.194353       |\n",
    " |M1C                |Scarborough        |Rouge Hill, Port Union, Highland Creek|43.784535|-79.160497      |\n",
    " |M1E                |Scarborough        |Guildwood, Morningside, West Hill|43.763573    |-79.188711       |\n",
    " |M1G                |Scarborough        |Woburn                      |43.770992         |-79.216917       |\n",
    " |M1H                |Scarborough        |Cedarbrae                   |43.773136         |-79.239476       |"
   ]
  },
  {
   "cell_type": "code",
   "execution_count": null,
   "metadata": {},
   "outputs": [],
   "source": []
  }
 ],
 "metadata": {
  "kernelspec": {
   "display_name": "Python 3",
   "language": "python",
   "name": "python3"
  },
  "language_info": {
   "codemirror_mode": {
    "name": "ipython",
    "version": 3
   },
   "file_extension": ".py",
   "mimetype": "text/x-python",
   "name": "python",
   "nbconvert_exporter": "python",
   "pygments_lexer": "ipython3",
   "version": "3.7.6"
  }
 },
 "nbformat": 4,
 "nbformat_minor": 4
}
